{
 "cells": [
  {
   "cell_type": "code",
   "execution_count": 6,
   "metadata": {},
   "outputs": [
    {
     "name": "stdout",
     "output_type": "stream",
     "text": [
      "hello world\n"
     ]
    },
    {
     "data": {
      "text/plain": [
       "'sada'"
      ]
     },
     "execution_count": 6,
     "metadata": {},
     "output_type": "execute_result"
    }
   ],
   "source": [
    "print('hello world')#打印傻逼\n",
    "#注释\n",
    "\"\"\"sada\"\"\""
   ]
  },
  {
   "cell_type": "markdown",
   "metadata": {},
   "source": [
    "# 变量\n",
    "- 变量名包括数组，字母，下划线\n",
    "    - 数字不能开头\n",
    "    - 以下划线开头的有特殊意义，不建议使用\n",
    "        - 驼峰命名法\n",
    "            - 大驼峰 每个单词第一个字母都大写 给类命名 ForTrue\n",
    "            - 小驼峰 第一个小写 给变量或函数 forTrue\n",
    "        - posix写法\n",
    "            - 多个单词全小写，用下划线连接 for_true\n",
    "- 避开保留字和关键字\n",
    "    - def, class, break, for \n",
    "\n",
    "## 变量的声明\n",
    "- var_name = var_value\n",
    "- var1 = var2 = var3 = var_value\n",
    "- age1, age2, age3 = 1,2,3\n",
    "\n",
    "## 变量的类型\n",
    "- 严格来讲，python只有一个类型\n",
    "- 标准数据类型有6种\n",
    "    - 数字类型Number（没有大小限制）\n",
    "        - 整数\n",
    "            - 整数分进制\n",
    "                - 2进制：0b开头的01代码\n",
    "                - 8进制：0o开头1-7\n",
    "        - 浮点数\n",
    "            - 科学计数法 10的几次方用e/E\n",
    "                - 1723 = 1.723e3\n",
    "                - 0.82 = 8.2e-1\n",
    "         - 复数\n",
    "             - 虚部用j/J表示：3+6j\n",
    "         - 布尔值(python没有真正的布尔值，真就是 1，假就是0，所以放在数字里面\n",
    "         可以跟数字直接操作)\n",
    "             - True\n",
    "             - False\n",
    "         \n",
    "    - 字符串Str\n",
    "        - 单引号\n",
    "        - 双引号\n",
    "        - 三引号（三个单引号或三个双引号）\n",
    "            - 能够扩起多行\n",
    "        - 格式化\n",
    "            - 利用%：%d整数，%s字符串 s = \"abcd%s\"%e -> s = \"abcde\"\n",
    "                - s = \"i %d love %s\"\n",
    "                - print(s %(10,\"da\"))\n",
    "            - format函数\n",
    "                - sb = \"{0},{1},{1},{2}\".format('as',10,\"saf\")\n",
    "                - print(sb)\n",
    "    - 列表List\n",
    "    - 元组Tuple\n",
    "    - 字典Dictonary\n",
    "    - 集合Set\n",
    "\n",
    "\n",
    "# 表达式\n",
    "\n",
    "- 取整 //\n",
    "- 取余数 %\n",
    "- 除 /\n",
    "    - a = 9 / 4, a =2.25\n",
    "- 幂运算 **\n",
    "- python 没有自增运算\n",
    "- 比较运算符，返回布尔值\n",
    "    - == 等于\n",
    "    - != 不等\n",
    "- a += 9 -> a = a + 9\n",
    "- 逻辑\n",
    "    - and 与\n",
    "    - or 或\n",
    "    - not 非\n",
    "- 成员运算符\n",
    "    - in\n",
    "    - not in\n",
    "    - 返回布尔值\n",
    "- 身份运算\n",
    "    - is\n",
    "    - not is"
   ]
  },
  {
   "cell_type": "markdown",
   "metadata": {},
   "source": [
    "# if\n",
    "- if 条件语句：\n",
    "    - 语句1\n",
    "    - 语句2\n",
    "    - ...\n"
   ]
  },
  {
   "cell_type": "code",
   "execution_count": 49,
   "metadata": {},
   "outputs": [
    {
     "name": "stdout",
     "output_type": "stream",
     "text": [
      "5\n",
      "大于\n"
     ]
    }
   ],
   "source": [
    "a = int(input())\n",
    "b = 9\n",
    "if a < 4:\n",
    "    print(\"小于\")\n",
    "else:\n",
    "    print(\"大于\")"
   ]
  },
  {
   "cell_type": "markdown",
   "metadata": {},
   "source": [
    "# while-循环\n",
    "- 当某条件满足就执行循环\n",
    "- 不知道循环次数\n",
    "    - while 条件：\n",
    "        语句块\n",
    "    - else:\n",
    "        语句块\n",
    "\n",
    "# 函数\n",
    "- 完成一项特定的功能\n",
    "- 函数使用\n",
    "    - 先定义\n",
    "    - 调用\n",
    "### 函数的参数和返回值\n",
    "- 负责给函数传递一些必要的信息\n",
    "    - 普通参数\n",
    "        - def 函数名(参数1，参数2...):\n",
    "                语句\n",
    "    - 默认参数\n",
    "        - 形参带有默认值，调用时如果没有给参数赋值，则使用默认值\n",
    "        - def 函数名(p1 = v1, p2 = v2,...):\n",
    "                 语句\n",
    "    - 关键字参数\n",
    "        - def fun(p1=v1,p2=v2,...):\n",
    "                func_body\n",
    "        - 调用不同：\n",
    "            - fun(p1=value1,p2=value2,...)\n",
    "        - 比较麻烦，也有好处：可以不考虑参数位置\n",
    "    - 收集参数\n",
    "        - 把没有位置，不能和定义时参数位置对应的参数，放入一个特定的参数结构中\n",
    "           - def fun(*args)；\n",
    "                 body\n",
    "        - 调用 \n",
    "              fun(v1,v2...)\n",
    "         \n",
    "         - 关键字收集：把关键字参数按照字典的格式放入收集参数\n",
    "                 - def fun(** kwargs):\n",
    "                     body\n",
    "                 - 调用：\n",
    "                     fun(p1=v1,p2=v2,...)\n",
    "     \n",
    "- 混合调用：收集参数，关键字参数，收集参数可以混合使用。\n",
    "   - 普通参数，关键字参数优先，定义的时候一般为普通参数，关键字参数，收集参数tuple，收集参数dict\n",
    "\n",
    "- 收集参数的解包问题\n",
    "    - 把参数放入参数或者字典中，直接把list或者dict放入参数收集中\n",
    "\n",
    "    -  l = list()\n",
    "    l.append(\"ss\")\n",
    "    l.append(23)\n",
    "\n",
    "    def stu1(*args):\n",
    "        for i in args:\n",
    "        print(i)\n",
    "        \n",
    "          \n",
    "    stu1(l) \n",
    "    ---------------------\n",
    "    得到的是一个list返回值：['ss', 23]\n",
    "    \n",
    "    此时调用，就需要解包，加个*\n",
    "    \n",
    "    同理，dict也需要解包，加**\n",
    "    \n",
    "    \n",
    "- 返回值：函数的执行结果\n",
    "    - 使用return关键字\n",
    "    - 没有return，默认返回None\n",
    "    - 推荐写法，都以return结尾，没有返回写return None\n",
    "    \n",
    "    \n",
    "## 函数文档\n",
    "- 给当前函数提供相关参考信息\n",
    "- 在函数内部开始的第一行使用三个字符串定义符\n",
    "- 一般具有具体格式\n",
    "- 文档查看\n",
    "    - 使用help(fun)\n",
    "    - 使用doc,fun.(双下滑线)__doc__\n",
    "    \n",
    "    \n",
    "    \n",
    "    \n",
    "# 函数的作用域\n",
    "- 变量由作用范围限制\n",
    "- 按照作用域分类\n",
    "    - 全局：在函数外部定义，整个全局都有效，在函数内部也能用\n",
    "    - 局部：函数内部\n",
    "- 原则 LEGB：\n",
    "    - local局部\n",
    "    - enclosing function locale 外部嵌套函数作用域\n",
    "    - global module 函数定义所在模块作用域\n",
    "    - building 内置模块作用域\n",
    "- 提升局部变量为全局：使用globel\n",
    "\n",
    "- globals，locals函数：显示出全局，局部变量 \n",
    "\n",
    "# 内置数据结构(变量类型)\n",
    "\n",
    "- list\n",
    "- set\n",
    "- dict\n",
    "- tuple\n",
    "\n",
    "## list\n",
    "- 一组有顺序的数据的组合\n",
    "    - 创建空列表：l1=[]\n",
    "    - 代值：l2=[100,11]\n",
    "    - 使用list()：l3=list()\n",
    "- 操作\n",
    "    - 访问：使用下标 l[0]\n",
    "    - 分片：l[a:b:c] a到b左闭右开。a,b如果不写，a表示0，b表示最大数加1,c控制增长幅度，省略表示1，\n",
    "    - 下标可以为负数，list最右边下标为-1，向左递减。\n",
    "    - 分片操作生成一个新的list，id不同\n",
    "    - 删除：del。删除list a中下标2的元素：del a[2]。在原list上删除，不改变id\n",
    "    - 相加：a+b直接连接a,b\n",
    "    - 相乘：a*3,相接3个a，a+a+a\n",
    "    \n",
    "    - 成员资格运算：c in a，返回布尔值，not in。in后面的一定是可迭代的\n",
    "\n",
    "## list遍历\n",
    "- for\n",
    "- while\n",
    "\n",
    "### 双层列表：\n",
    "        - a=[[\"one\",1],[\"two\",2]]\n",
    "        - for  k,v in a:\n",
    "            print(k,\"--\",v) \n",
    "        - a=[[\"one\",1,\"ss\"],[\"two\",2,\"as\"]]\n",
    "        - for  k,v,w in a:\n",
    "            print(k,\"--\",v,\"---\",w) \n",
    "            \n",
    "### 列表内涵\n",
    "- 通过简单的方法创造列表\n",
    "- a = [1,2,3]\n",
    "- b = [i for i in a]->b=a\n",
    "- c = [10*i for i in a]->a中每个元素乘以10，变成c\n",
    "\n",
    "- d = [i for i in a if i%2==0]->a中所有偶数组成d\n",
    "\n",
    "## 列表的函数\n",
    "- len():求列表长度\n",
    "- max()，min():求列表里元素最大(小)值\n",
    "- list()：把其他格式转换成list\n",
    "    - 字符串转换成list： str = \"a bvd\"\n",
    "                        list(str)\n",
    "    - range转换成list： list(range(1,10))\n"
   ]
  },
  {
   "cell_type": "code",
   "execution_count": 35,
   "metadata": {},
   "outputs": [
    {
     "data": {
      "text/plain": [
       "'b'"
      ]
     },
     "execution_count": 35,
     "metadata": {},
     "output_type": "execute_result"
    }
   ],
   "source": [
    "str = \"abcd\"\n",
    "str[1]"
   ]
  },
  {
   "cell_type": "code",
   "execution_count": 11,
   "metadata": {},
   "outputs": [
    {
     "name": "stdout",
     "output_type": "stream",
     "text": [
      "sb, hello\n"
     ]
    }
   ],
   "source": [
    "def func(name):\n",
    "    print(\"{0}, hello\".format(name))\n",
    "func('sb')"
   ]
  },
  {
   "cell_type": "code",
   "execution_count": 8,
   "metadata": {},
   "outputs": [
    {
     "name": "stdout",
     "output_type": "stream",
     "text": [
      "qusi\n"
     ]
    }
   ],
   "source": [
    "func()"
   ]
  },
  {
   "cell_type": "code",
   "execution_count": 16,
   "metadata": {},
   "outputs": [
    {
     "name": "stdout",
     "output_type": "stream",
     "text": [
      "1 \n",
      "2 4 \n",
      "3 6 9 \n",
      "4 8 12 16 \n",
      "5 10 15 20 25 \n",
      "6 12 18 24 30 36 \n",
      "7 14 21 28 35 42 49 \n",
      "8 16 24 32 40 48 56 64 \n",
      "9 18 27 36 45 54 63 72 81 \n"
     ]
    }
   ],
   "source": [
    "def f(roll):\n",
    "    for i in range(1,roll+1):\n",
    "        print(\"{0}\".format(i*roll),end=\" \")\n",
    "        if i == roll:\n",
    "            print()\n",
    "for i in range(1,10):\n",
    "    f(i)"
   ]
  },
  {
   "cell_type": "code",
   "execution_count": 18,
   "metadata": {},
   "outputs": [
    {
     "name": "stdout",
     "output_type": "stream",
     "text": [
      "<class 'tuple'>\n",
      "sd\n",
      "10\n"
     ]
    }
   ],
   "source": [
    "def stu(*args):\n",
    "    print(type(args))\n",
    "    for i in args:\n",
    "        print(i)\n",
    "        \n",
    "stu(\"sd\",10)"
   ]
  },
  {
   "cell_type": "code",
   "execution_count": 20,
   "metadata": {},
   "outputs": [
    {
     "data": {
      "text/plain": [
       "range(0, 10)"
      ]
     },
     "execution_count": 20,
     "metadata": {},
     "output_type": "execute_result"
    }
   ],
   "source": [
    "range(0,10)"
   ]
  },
  {
   "cell_type": "code",
   "execution_count": 25,
   "metadata": {},
   "outputs": [
    {
     "name": "stdout",
     "output_type": "stream",
     "text": [
      "name -- sha\n",
      "age -- 12\n"
     ]
    }
   ],
   "source": [
    "def stu2(**kwargs):\n",
    "    for k,v in kwargs.items():\n",
    "        print(k,\"--\",v)\n",
    "\n",
    "stu2(name = \"sha\",age =\"12\")"
   ]
  },
  {
   "cell_type": "code",
   "execution_count": 30,
   "metadata": {},
   "outputs": [
    {
     "name": "stdout",
     "output_type": "stream",
     "text": [
      "ssad\n",
      "fsfsa\n",
      "ss\n",
      "23\n",
      "Help on function stu1 in module __main__:\n",
      "\n",
      "stu1(*args)\n",
      "    zhesda\n",
      "\n"
     ]
    },
    {
     "data": {
      "text/plain": [
       "'zhesda'"
      ]
     },
     "execution_count": 30,
     "metadata": {},
     "output_type": "execute_result"
    }
   ],
   "source": [
    "l = list()\n",
    "l.append(\"ss\")\n",
    "l.append(23)\n",
    "\n",
    "def stu1(*args):\n",
    "    'zhesda'\n",
    "    for i in args:\n",
    "        print(i)\n",
    "        \n",
    "stu1(\"ssad\",\"fsfsa\")      \n",
    "stu1(*l)        \n",
    "help(stu1)\n",
    "stu1.__doc__"
   ]
  },
  {
   "cell_type": "markdown",
   "metadata": {},
   "source": [
    "# 关于列表的函数\n",
    "\n",
    "- l.append(x): 在末尾插入x\n",
    "- l.insert(index,data):插入位置是index前面\n",
    "- del删除\n",
    "- l.pop(): 把最后一个元素拿出来，返回值是最后一个元素。影响是l等于删除最后一个元素，\n",
    "- l.remove(x): 在列表中删除指定元素x\n",
    "- l.clear()：清空,在原list中清空\n",
    "- l.reverse()：反转，id不变\n",
    "- l.extend(s)：列表l后面拼接列表s\n",
    "- l.count()：查找列表中指定元素的个数\n",
    "- l.copy()：（直接列表相等是传地址，修改后者前者也跟着改变）要解决这个问题需要copy，相当于又生成一个新列表，修改一个不会影响另一个\n",
    "- copy是浅拷贝，列表只拷贝一层，里面如果还有列表做传地址处理\n",
    "\n",
    "# 元组 \n",
    "- 元组可以看成是不可更改的list\n",
    "## 创建\n",
    "- t=()\n",
    "- 创建只有一个只的元组：t=(1,)，不写“，”(1),类型是int。也可以不加括号：t=1,\n",
    "- 创建多个值：t=(1,2,3,4)，或者t=1,2,3,4\n",
    "## 特性\n",
    "- 有序，数据可以访问，不可修改，list的特性除了修改，其他都有\n",
    "## 关于元组的函数\n",
    "- len(): 获取长度\n",
    "- max(),min():最大最小\n",
    "- tuple(): 转换成元组\n",
    "- count(): 计算指定元素出现的个数\n",
    "- index(): 指定元素的索引\n",
    "## 元组的变量交换\n",
    "- a,b = b, a\n",
    "\n",
    "# 集合\n",
    "\n",
    "- 一堆确定的无序无重复的数据\n",
    "## 定义\n",
    "- s=set()（一个空大括号第定义的是dict，里面必须有值）\n",
    "- s={1,2,3,4}\n",
    "## 特性\n",
    "- 集合内数据无序，无法索引，无法分片\n",
    "- 数据唯一性，可以用来排除同一数据\n",
    "## 操作\n",
    "- 成员检测：in，not in\n",
    "- 遍历：for\n",
    "## 集合的内涵\n",
    "- s={1,2,3,2}\n",
    "- ss = {i for i in s if i%2==0}\n",
    "\n",
    "- 多重循环 s2={12,231,321}\n",
    "- s= {m*n for m in s for n in s2}\n",
    "\n",
    "## 关于集合的函数\n",
    "- len,max,min\n",
    "- s.add(x)：向集合内添加元素x\n",
    "- s.clear(): 清空，id不变\n",
    "- copy\n",
    "- remove：移除指定的值，如果指定值不存在，报错\n",
    "- discard：同上，但是不报错\n",
    "- pop:随机移除\n",
    "- intersection: 交\n",
    "- difference：差\n",
    "- union：并\n",
    "- issubset：检查是否为另一个子集\n",
    "## 冰冻集合：不可以进行修改的集合\n",
    "- 创建 ：s=frozenset()\n",
    "\n",
    "# 字典\n",
    "- 没有顺序的组合数据，以kv对的形式出现\n",
    "- 创建： 空字典：d={}\n",
    "- 有值： d={\"one\":1,\"two\":2}，\n",
    "- 或者直接d=dict({\"one\":1,\"two\":2})，\n",
    "- 或者利用关键字参数：d=dict({one=1,two=2}),每对用逗号隔开\n",
    "- 或者用元组：d=dict([(\"one\":1),(\"two\":2)])\n",
    "\n",
    "## 特性\n",
    "- 没有分片，没有索引\n",
    "- 每个数据都是kv对\n",
    "    - k必须是可哈希的，比如int，string，tuple，float，但是list，set，dict不行\n",
    "    - v可以是任何值\n",
    "    \n",
    "## 常见操作\n",
    "- 访问数据：d[key],中括号里是k值\n",
    "- 赋值： d[key]=v\n",
    "- 删除：del d[key]\n",
    "- 成员检测： in, not in 只能检测key，值和键值对都不能检测\n",
    "- 按键循环：for k in d.keys()：\n",
    "- 按值循环：for v in d.values()：\n",
    "- 按键值对循环：for k,v in d.items()：\n",
    "\n",
    "## 字典生成式\n",
    "\n",
    "- dd = {k:v for k,v in d.items() if v%2==0}\n",
    "\n",
    "## 相关函数\n",
    "\n",
    "- len， max，min\n",
    "- clear：清空\n",
    "- d.items：返回字典键值对的元组的格式可迭代\n",
    "- d.keys：返回字典键组成的可迭代结构\n",
    "- d.values：返回字典值组成的可迭代结构\n",
    "- d.get()：根据指定键返回值，好处是可以设定默认值 d.get(x,y)，到字典d里找键x的值，找到返回值，找不到返回y，y缺省则返回none\n",
    "\n",
    "\n",
    "\n",
    "\n",
    "\n",
    "\n",
    "\n",
    "\n",
    "\n",
    "\n",
    "\n",
    "\n",
    "\n",
    "\n",
    "\n",
    "\n",
    "\n",
    "\n",
    "\n",
    "\n",
    "\n",
    "\n",
    "\n",
    "\n",
    "\n",
    "\n",
    "\n",
    "\n",
    "\n",
    "\n",
    "\n",
    "\n"
   ]
  }
 ],
 "metadata": {
  "kernelspec": {
   "display_name": "Python 3",
   "language": "python",
   "name": "python3"
  },
  "language_info": {
   "codemirror_mode": {
    "name": "ipython",
    "version": 3
   },
   "file_extension": ".py",
   "mimetype": "text/x-python",
   "name": "python",
   "nbconvert_exporter": "python",
   "pygments_lexer": "ipython3",
   "version": "3.6.4"
  }
 },
 "nbformat": 4,
 "nbformat_minor": 2
}
